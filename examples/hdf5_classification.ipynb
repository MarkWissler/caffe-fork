{
 "metadata": {
  "description": "Use Caffe as a generic SGD optimizer to train logistic regression on non-image HDF5 data.",
  "example_name": "Off-the-shelf SGD for classification",
  "include_in_docs": true,
  "priority": 4,
  "signature": "sha256:741422697d76b1667287180dc7c6360cf105ee774b1e2def800dc8fe80f78f67"
 },
 "nbformat": 3,
 "nbformat_minor": 0,
 "worksheets": [
  {
   "cells": [
    {
     "cell_type": "markdown",
     "metadata": {},
     "source": [
      "# Caffeinated Logistic Regression of HDF5 Data\n",
      "\n",
      "While Caffe is made for deep networks it can likewise represent \"shallow\" models like logistic regression for classification. We'll do simple logistic regression on synthetic data that we'll generate and save to HDF5 to feed vectors to Caffe. Once that model is done, we'll add layers to improve accuracy. That's what Caffe is about: define a model, experiment, and then deploy."
     ]
    },
    {
     "cell_type": "code",
     "collapsed": false,
     "input": [
      "import numpy as np\n",
      "import matplotlib.pyplot as plt\n",
      "%matplotlib inline\n",
      "\n",
      "# Make sure that caffe is on the python path:\n",
      "caffe_root = '../'  # this file is expected to be in {caffe_root}/examples\n",
      "import sys\n",
      "sys.path.insert(0, caffe_root + 'python')\n",
      "\n",
      "import caffe\n",
      "\n",
      "import os\n",
      "import h5py\n",
      "import shutil\n",
      "import tempfile\n",
      "\n",
      "# You may need to 'pip install scikit-learn'\n",
      "import sklearn\n",
      "import sklearn.datasets\n",
      "import sklearn.linear_model"
     ],
     "language": "python",
     "metadata": {},
     "outputs": [],
     "prompt_number": null
    },
    {
     "cell_type": "markdown",
     "metadata": {},
     "source": [
      "Synthesize a dataset of 10,000 4-vectors for binary classification with 2 informative features and 2 noise features."
     ]
    },
    {
     "cell_type": "code",
     "collapsed": false,
     "input": [
      "X, y = sklearn.datasets.make_classification(\n",
      "    n_samples=10000, n_features=4, n_redundant=0, n_informative=2, \n",
      "    n_clusters_per_class=2, hypercube=False, random_state=0\n",
      ")\n",
      "\n",
      "# Split into train and test\n",
      "X, Xt, y, yt = sklearn.cross_validation.train_test_split(X, y)\n",
      "\n",
      "# Visualize sample of the data\n",
      "ind = np.random.permutation(X.shape[0])[:1000]\n",
      "df = pd.DataFrame(X[ind])\n",
      "_ = pd.scatter_matrix(df, figsize=(9, 9), diagonal='kde', marker='o', s=40, alpha=.4, c=y[ind])"
     ],
     "language": "python",
     "metadata": {},
     "outputs": [],
     "prompt_number": null
    },
    {
     "cell_type": "markdown",
     "metadata": {},
     "source": [
      "Learn and evaluate scikit-learn's logistic regression with stochastic gradient descent (SGD) training. Time and check the classifier's accuracy."
     ]
    },
    {
     "cell_type": "code",
     "collapsed": false,
     "input": [
      "# Train and test the scikit-learn SGD logistic regression.\n",
      "clf = sklearn.linear_model.SGDClassifier(\n",
      "    loss='log', n_iter=1000, penalty='l2', alpha=1e-3, class_weight='auto')\n",
      "\n",
      "%timeit clf.fit(X, y)\n",
      "yt_pred = clf.predict(Xt)\n",
      "print('Accuracy: {:.3f}'.format(sklearn.metrics.accuracy_score(yt, yt_pred)))"
     ],
     "language": "python",
     "metadata": {},
     "outputs": [],
     "prompt_number": null
    },
    {
     "cell_type": "markdown",
     "metadata": {},
     "source": [
      "Save the dataset to HDF5 for loading in Caffe."
     ]
    },
    {
     "cell_type": "code",
     "collapsed": false,
     "input": [
      "# Write out the data to HDF5 files in a temp directory.\n",
      "# This file is assumed to be caffe_root/examples/hdf5_classification.ipynb\n",
      "dirname = os.path.abspath('./hdf5_classification/data')\n",
      "if not os.path.exists(dirname):\n",
      "    os.makedirs(dirname)\n",
      "\n",
      "train_filename = os.path.join(dirname, 'train.h5')\n",
      "test_filename = os.path.join(dirname, 'test.h5')\n",
      "\n",
      "# HDF5DataLayer source should be a file containing a list of HDF5 filenames.\n",
      "# To show this off, we'll list the same data file twice.\n",
      "with h5py.File(train_filename, 'w') as f:\n",
      "    f['data'] = X\n",
      "    f['label'] = y.astype(np.float32)\n",
      "with open(os.path.join(dirname, 'train.txt'), 'w') as f:\n",
      "    f.write(train_filename + '\\n')\n",
      "    f.write(train_filename + '\\n')\n",
      "    \n",
      "# HDF5 is pretty efficient, but can be further compressed.\n",
      "comp_kwargs = {'compression': 'gzip', 'compression_opts': 1}\n",
      "with h5py.File(test_filename, 'w') as f:\n",
      "    f.create_dataset('data', data=Xt, **comp_kwargs)\n",
      "    f.create_dataset('label', data=yt.astype(np.float32), **comp_kwargs)\n",
      "with open(os.path.join(dirname, 'test.txt'), 'w') as f:\n",
      "    f.write(test_filename + '\\n')"
     ],
     "language": "python",
     "metadata": {},
     "outputs": [],
     "prompt_number": null
    },
    {
     "cell_type": "markdown",
     "metadata": {},
     "source": [
      "Learn and evaluate logistic regression in Caffe."
     ]
    },
    {
     "cell_type": "code",
     "collapsed": false,
     "input": [
      "def learn_and_test(solver_file):\n",
      "    caffe.set_mode_cpu()\n",
      "    solver = caffe.get_solver(solver_file)\n",
      "    solver.solve()\n",
      "\n",
      "    accuracy = 0\n",
      "    test_iters = int(len(Xt) / solver.test_nets[0].blobs['data'].num)\n",
      "    for i in range(test_iters):\n",
      "        solver.test_nets[0].forward()\n",
      "        accuracy += solver.test_nets[0].blobs['accuracy'].data\n",
      "    accuracy /= test_iters\n",
      "    return accuracy\n",
      "\n",
      "%timeit learn_and_test('hdf5_classification/solver.prototxt')\n",
      "acc = learn_and_test('hdf5_classification/solver.prototxt')\n",
      "print(\"Accuracy: {:.3f}\".format(acc))"
     ],
     "language": "python",
     "metadata": {},
     "outputs": [],
     "prompt_number": null
    },
    {
     "cell_type": "markdown",
     "metadata": {},
     "source": [
      "Do the same through the command line interface for detailed output on the model and solving."
     ]
    },
    {
     "cell_type": "code",
     "collapsed": false,
     "input": [
      "!../build/tools/caffe train -solver hdf5_classification/solver.prototxt"
     ],
     "language": "python",
     "metadata": {},
     "outputs": [],
     "prompt_number": null
    },
    {
     "cell_type": "markdown",
     "metadata": {},
     "source": [
      "If you look at output or the `train_val.prototxt`, you'll see that the model is simple logistic regression.\n",
      "We can make it a little more advanced by introducing a non-linearity between weights that take the input and weights that give the output -- now we have a two-layer network.\n",
      "That network is given in `train_val2.prototxt`, and that's the only change made in `solver2.prototxt` which we will now use.\n",
      "\n",
      "The final accuracy of the new network be higher than logistic regression!"
     ]
    },
    {
     "cell_type": "code",
     "collapsed": false,
     "input": [
      "def learn_and_test(solver_file):\n",
      "    caffe.set_mode_cpu()\n",
      "    solver = caffe.get_solver(solver_file)\n",
      "    solver.solve()\n",
      "\n",
      "    accuracy = 0\n",
      "    test_iters = int(len(Xt) / solver.test_nets[0].blobs['data'].num)\n",
      "    for i in range(test_iters):\n",
      "        solver.test_nets[0].forward()\n",
      "        accuracy += solver.test_nets[0].blobs['accuracy'].data\n",
      "    accuracy /= test_iters\n",
      "    return accuracy\n",
      "\n",
      "%timeit learn_and_test('hdf5_classification/solver2.prototxt')\n",
      "acc = learn_and_test('hdf5_classification/solver2.prototxt')\n",
      "print(\"Accuracy: {:.3f}\".format(acc))"
     ],
     "language": "python",
     "metadata": {},
     "outputs": [],
     "prompt_number": null
    },
    {
     "cell_type": "markdown",
     "metadata": {},
     "source": [
      "Do the same through the command line interface for detailed output on the model and solving."
     ]
    },
    {
     "cell_type": "code",
     "collapsed": false,
     "input": [
      "!../build/tools/caffe train -solver hdf5_classification/solver2.prototxt"
     ],
     "language": "python",
     "metadata": {},
     "outputs": [],
     "prompt_number": null
    },
    {
     "cell_type": "code",
     "collapsed": false,
     "input": [
      "# Clean up (comment this out if you want to examine the hdf5_classification/data directory).\n",
      "shutil.rmtree(dirname)"
     ],
     "language": "python",
     "metadata": {},
     "outputs": [],
     "prompt_number": null
    }
   ],
   "metadata": {}
  }
 ]
}
